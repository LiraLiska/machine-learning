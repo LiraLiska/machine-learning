{
  "cells": [
    {
      "cell_type": "code",
      "execution_count": 1,
      "metadata": {
        "colab": {
          "base_uri": "https://localhost:8080/"
        },
        "id": "61SAsiHAclak",
        "outputId": "f739ca20-f352-4f5d-8e84-5bb13fb556da"
      },
      "outputs": [
        {
          "output_type": "stream",
          "name": "stdout",
          "text": [
            "Mounted at /content/drive\n"
          ]
        }
      ],
      "source": [
        "from google.colab import drive\n",
        "drive.mount('/content/drive')"
      ]
    },
    {
      "cell_type": "code",
      "source": [
        "path = '/content/drive/MyDrive/praktikum_ml/praktikum03'"
      ],
      "metadata": {
        "id": "GX3d48Q0sJeg"
      },
      "execution_count": 2,
      "outputs": []
    },
    {
      "cell_type": "code",
      "execution_count": 9,
      "metadata": {
        "colab": {
          "base_uri": "https://localhost:8080/"
        },
        "id": "WerCmIDIX1BV",
        "outputId": "51ef7da7-625b-4f84-e08f-968772bd0b50"
      },
      "outputs": [
        {
          "output_type": "stream",
          "name": "stdout",
          "text": [
            "Hasil Evaluasi Model:\n",
            "RMSE : 831.29\n",
            "R^2 Score : 0.83\n",
            "\n",
            "Koefisien Model:\n",
            "              Koefisien\n",
            "season       524.722536\n",
            "yr          2023.997547\n",
            "mnth         -38.444658\n",
            "holiday     -391.550766\n",
            "weekday       72.937003\n",
            "workingday   160.804892\n",
            "weathersit  -632.856284\n",
            "temp        2097.247836\n",
            "atemp       3488.042179\n",
            "hum         -865.439419\n",
            "windspeed  -2080.540395\n"
          ]
        }
      ],
      "source": [
        "# Import library\n",
        "import pandas as pd\n",
        "from sklearn.model_selection import train_test_split\n",
        "from sklearn.linear_model import LinearRegression\n",
        "from sklearn.metrics import mean_squared_error, r2_score\n",
        "import numpy as np\n",
        "\n",
        "# Baca dataset\n",
        "df = pd.read_csv(path + '/Data/day.csv' , sep = \",\")\n",
        "\n",
        "# Pilih variabel X dan Y\n",
        "X = df[['season', 'yr', 'mnth', 'holiday', 'weekday', 'workingday',\n",
        "        'weathersit', 'temp', 'atemp', 'hum', 'windspeed']]\n",
        "y = df['cnt']\n",
        "\n",
        "# Bagi data untuk training dan testing\n",
        "X_train, X_test, y_train, y_test = train_test_split(X, y, test_size=0.2, random_state=42)\n",
        "\n",
        "# Buat model regresi linear\n",
        "model = LinearRegression()\n",
        "model.fit(X_train, y_train)\n",
        "\n",
        "# Prediksi\n",
        "y_pred = model.predict(X_test)\n",
        "\n",
        "# Evaluasi model\n",
        "mse = mean_squared_error(y_test, y_pred)\n",
        "rmse = np.sqrt(mse)\n",
        "r2 = r2_score(y_test, y_pred)\n",
        "\n",
        "print(\"Hasil Evaluasi Model:\")\n",
        "print(f\"RMSE : {rmse:.2f}\")\n",
        "print(f\"R^2 Score : {r2:.2f}\")\n",
        "\n",
        "# Tampilkan koefisien\n",
        "coef = pd.DataFrame(model.coef_, X.columns, columns=['Koefisien'])\n",
        "print(\"\\nKoefisien Model:\")\n",
        "print(coef)\n"
      ]
    }
  ],
  "metadata": {
    "colab": {
      "provenance": []
    },
    "kernelspec": {
      "display_name": "Python 3",
      "name": "python3"
    },
    "language_info": {
      "name": "python"
    }
  },
  "nbformat": 4,
  "nbformat_minor": 0
}