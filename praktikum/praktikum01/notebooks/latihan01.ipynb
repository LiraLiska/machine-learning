{
 "cells": [
  {
   "cell_type": "code",
   "execution_count": 2,
   "id": "57481345",
   "metadata": {},
   "outputs": [],
   "source": [
    "import pandas as pd\n",
    "df = pd.read_csv('../data/hour.csv', sep=',')\n",
    "\n",
    "df1 = df[['instant','dteday','season','temp','hum','windspeed']]\n",
    "\n",
    "df1.head()\n",
    "\n",
    "df1.to_csv('../data/latihan01.csv', index=False)"
   ]
  }
 ],
 "metadata": {
  "kernelspec": {
   "display_name": "Python 3",
   "language": "python",
   "name": "python3"
  },
  "language_info": {
   "codemirror_mode": {
    "name": "ipython",
    "version": 3
   },
   "file_extension": ".py",
   "mimetype": "text/x-python",
   "name": "python",
   "nbconvert_exporter": "python",
   "pygments_lexer": "ipython3",
   "version": "3.12.10"
  }
 },
 "nbformat": 4,
 "nbformat_minor": 5
}
